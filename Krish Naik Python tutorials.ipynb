{
 "cells": [
  {
   "cell_type": "code",
   "execution_count": 1,
   "id": "04322eae",
   "metadata": {},
   "outputs": [],
   "source": [
    "first_name = 'Nabajit'\n",
    "\n",
    "last_name = 'Borah'"
   ]
  },
  {
   "cell_type": "code",
   "execution_count": 2,
   "id": "79d71a88",
   "metadata": {},
   "outputs": [
    {
     "name": "stdout",
     "output_type": "stream",
     "text": [
      "My name is Nabajit and last name is Borah\n"
     ]
    }
   ],
   "source": [
    "print(\"My name is {} and last name is {}\".format(first_name,last_name))"
   ]
  },
  {
   "cell_type": "markdown",
   "id": "2512d136",
   "metadata": {},
   "source": [
    "Booleans variables are two constant objects: True or False\n",
    "bool()"
   ]
  },
  {
   "cell_type": "code",
   "execution_count": 3,
   "id": "ec4f093d",
   "metadata": {},
   "outputs": [],
   "source": [
    "my_str=\"Nabajit991\""
   ]
  },
  {
   "cell_type": "code",
   "execution_count": 4,
   "id": "ac8dd34f",
   "metadata": {},
   "outputs": [
    {
     "data": {
      "text/plain": [
       "True"
      ]
     },
     "execution_count": 4,
     "metadata": {},
     "output_type": "execute_result"
    }
   ],
   "source": [
    "my_str.isalnum()"
   ]
  },
  {
   "cell_type": "code",
   "execution_count": 5,
   "id": "f3280da9",
   "metadata": {},
   "outputs": [
    {
     "name": "stdout",
     "output_type": "stream",
     "text": [
      "True\n",
      "False\n",
      "False\n",
      "True\n",
      "False\n",
      "False\n",
      "False\n",
      "False\n",
      "False\n"
     ]
    }
   ],
   "source": [
    "print(my_str.isalnum()) #check if all char are numbers\n",
    "print(my_str.isalpha()) #check if all char in the string are alphabetic\n",
    "print(my_str.isdigit()) #test if string contains digits\n",
    "print(my_str.istitle()) #test if string contains title words\n",
    "print(my_str.isupper()) #test if string contains upper case\n",
    "print(my_str.islower()) #test if string contains lower case\n",
    "print(my_str.isspace()) #test if string contains spaces\n",
    "print(my_str.endswith('k')) #test if string endswith a d\n",
    "print(my_str.startswith('K')) #test if string startswith H"
   ]
  },
  {
   "cell_type": "code",
   "execution_count": 6,
   "id": "ca03c948",
   "metadata": {},
   "outputs": [],
   "source": [
    "str_example='Hello World'\n",
    "my_str='Nabbo'"
   ]
  },
  {
   "cell_type": "code",
   "execution_count": 7,
   "id": "d71e1c61",
   "metadata": {},
   "outputs": [
    {
     "data": {
      "text/plain": [
       "True"
      ]
     },
     "execution_count": 7,
     "metadata": {},
     "output_type": "execute_result"
    }
   ],
   "source": [
    "my_str.isalpha() or str_example.isnum()"
   ]
  },
  {
   "cell_type": "markdown",
   "id": "8f481bfb",
   "metadata": {},
   "source": [
    "## Lists\n",
    "A list is a data structure in Python that is a mutable, or changeable, ordered sequence of elements. Each element or value that is inside of a list is called an item. Just as strings are defined as characters between quotes, lists are defined by having values between square brackets [ ]"
   ]
  },
  {
   "cell_type": "code",
   "execution_count": 8,
   "id": "bb2231c2",
   "metadata": {},
   "outputs": [],
   "source": [
    "lst=['Mathematics', 'chemistry', 100, 200, 300, 204]"
   ]
  },
  {
   "cell_type": "code",
   "execution_count": 9,
   "id": "2a1754f7",
   "metadata": {},
   "outputs": [
    {
     "data": {
      "text/plain": [
       "6"
      ]
     },
     "execution_count": 9,
     "metadata": {},
     "output_type": "execute_result"
    }
   ],
   "source": [
    "len(lst)"
   ]
  },
  {
   "cell_type": "markdown",
   "id": "310cfdf8",
   "metadata": {},
   "source": [
    "### Append\n"
   ]
  },
  {
   "cell_type": "code",
   "execution_count": 14,
   "id": "771754b9",
   "metadata": {},
   "outputs": [],
   "source": [
    "#append is used to add elements in the list\n",
    "lst.append(\"Nabbo\")\n"
   ]
  },
  {
   "cell_type": "code",
   "execution_count": 15,
   "id": "e68add43",
   "metadata": {},
   "outputs": [],
   "source": [
    "lst.append([\"John\",\"Bala\"])"
   ]
  },
  {
   "cell_type": "code",
   "execution_count": 18,
   "id": "9160b2fc",
   "metadata": {},
   "outputs": [
    {
     "data": {
      "text/plain": [
       "['Mathematics',\n",
       " 'chemistry',\n",
       " 100,\n",
       " 200,\n",
       " 300,\n",
       " 204,\n",
       " 'Nabbo',\n",
       " ['John', 'Bala'],\n",
       " 'Nabbo',\n",
       " ['John', 'Bala']]"
      ]
     },
     "execution_count": 18,
     "metadata": {},
     "output_type": "execute_result"
    }
   ],
   "source": [
    "lst"
   ]
  },
  {
   "cell_type": "code",
   "execution_count": null,
   "id": "3b2bc411",
   "metadata": {},
   "outputs": [],
   "source": []
  }
 ],
 "metadata": {
  "kernelspec": {
   "display_name": "Python 3 (ipykernel)",
   "language": "python",
   "name": "python3"
  },
  "language_info": {
   "codemirror_mode": {
    "name": "ipython",
    "version": 3
   },
   "file_extension": ".py",
   "mimetype": "text/x-python",
   "name": "python",
   "nbconvert_exporter": "python",
   "pygments_lexer": "ipython3",
   "version": "3.11.3"
  }
 },
 "nbformat": 4,
 "nbformat_minor": 5
}
