{
 "cells": [
  {
   "cell_type": "code",
   "execution_count": 3,
   "id": "04322eae",
   "metadata": {},
   "outputs": [],
   "source": [
    "first_name = 'Nabajit'\n",
    "\n",
    "last_name = 'Borah'"
   ]
  },
  {
   "cell_type": "code",
   "execution_count": 4,
   "id": "79d71a88",
   "metadata": {},
   "outputs": [
    {
     "name": "stdout",
     "output_type": "stream",
     "text": [
      "My name is Nabajit and last name is Borah\n"
     ]
    }
   ],
   "source": [
    "print(\"My name is {} and last name is {}\".format(first_name,last_name))"
   ]
  },
  {
   "cell_type": "markdown",
   "id": "2512d136",
   "metadata": {},
   "source": [
    "Booleans variables are two constant objects: True or False\n",
    "bool()"
   ]
  },
  {
   "cell_type": "code",
   "execution_count": 5,
   "id": "ec4f093d",
   "metadata": {},
   "outputs": [],
   "source": [
    "my_str=\"Nabajit991\""
   ]
  },
  {
   "cell_type": "code",
   "execution_count": 6,
   "id": "ac8dd34f",
   "metadata": {},
   "outputs": [
    {
     "data": {
      "text/plain": [
       "True"
      ]
     },
     "execution_count": 6,
     "metadata": {},
     "output_type": "execute_result"
    }
   ],
   "source": [
    "my_str.isalnum()"
   ]
  },
  {
   "cell_type": "code",
   "execution_count": 7,
   "id": "f3280da9",
   "metadata": {},
   "outputs": [
    {
     "name": "stdout",
     "output_type": "stream",
     "text": [
      "True\n",
      "False\n",
      "False\n",
      "True\n",
      "False\n",
      "False\n",
      "False\n",
      "False\n",
      "False\n"
     ]
    }
   ],
   "source": [
    "print(my_str.isalnum()) #check if all char are numbers\n",
    "print(my_str.isalpha()) #check if all char in the string are alphabetic\n",
    "print(my_str.isdigit()) #test if string contains digits\n",
    "print(my_str.istitle()) #test if string contains title words\n",
    "print(my_str.isupper()) #test if string contains upper case\n",
    "print(my_str.islower()) #test if string contains lower case\n",
    "print(my_str.isspace()) #test if string contains spaces\n",
    "print(my_str.endswith('k')) #test if string endswith a d\n",
    "print(my_str.startswith('K')) #test if string startswith H"
   ]
  },
  {
   "cell_type": "code",
   "execution_count": 8,
   "id": "ca03c948",
   "metadata": {},
   "outputs": [],
   "source": [
    "str_example='Hello World'\n",
    "my_str='Nabbo'"
   ]
  },
  {
   "cell_type": "code",
   "execution_count": 9,
   "id": "d71e1c61",
   "metadata": {},
   "outputs": [
    {
     "data": {
      "text/plain": [
       "True"
      ]
     },
     "execution_count": 9,
     "metadata": {},
     "output_type": "execute_result"
    }
   ],
   "source": [
    "my_str.isalpha() or str_example.isnum()"
   ]
  },
  {
   "cell_type": "markdown",
   "id": "8f481bfb",
   "metadata": {},
   "source": [
    "### Lists\n",
    "A list is a data structure in Python that is a mutable, or changeable, ordered sequence of elements. Each element or value that is inside of a list is called an item. Just as strings are defined as characters between quotes, lists are defined by having values between square brackets [ ]"
   ]
  },
  {
   "cell_type": "code",
   "execution_count": 10,
   "id": "3bfc5457",
   "metadata": {},
   "outputs": [
    {
     "data": {
      "text/plain": [
       "list"
      ]
     },
     "execution_count": 10,
     "metadata": {},
     "output_type": "execute_result"
    }
   ],
   "source": [
    "type([]) #to find data type"
   ]
  },
  {
   "cell_type": "code",
   "execution_count": 24,
   "id": "e1e61185",
   "metadata": {},
   "outputs": [],
   "source": [
    "lst=list() #create empty list"
   ]
  },
  {
   "cell_type": "code",
   "execution_count": 25,
   "id": "bb2231c2",
   "metadata": {},
   "outputs": [],
   "source": [
    "lst=['Mathematics', 'chemistry', 100, 200, 300, 204]"
   ]
  },
  {
   "cell_type": "code",
   "execution_count": 26,
   "id": "2a1754f7",
   "metadata": {},
   "outputs": [
    {
     "data": {
      "text/plain": [
       "6"
      ]
     },
     "execution_count": 26,
     "metadata": {},
     "output_type": "execute_result"
    }
   ],
   "source": [
    "len(lst) #finds length of list"
   ]
  },
  {
   "cell_type": "markdown",
   "id": "310cfdf8",
   "metadata": {},
   "source": [
    "### Append\n"
   ]
  },
  {
   "cell_type": "code",
   "execution_count": 27,
   "id": "771754b9",
   "metadata": {},
   "outputs": [],
   "source": [
    "#append is used to add elements in the list\n",
    "lst.append(\"Nabbo\")\n"
   ]
  },
  {
   "cell_type": "code",
   "execution_count": 28,
   "id": "51648d2c",
   "metadata": {},
   "outputs": [],
   "source": [
    "lst.append([\"John\",\"Bala\"]) #nested list"
   ]
  },
  {
   "cell_type": "code",
   "execution_count": 29,
   "id": "e68add43",
   "metadata": {},
   "outputs": [
    {
     "data": {
      "text/plain": [
       "['Mathematics', 'chemistry', 100, 200, 300, 204, 'Nabbo', ['John', 'Bala']]"
      ]
     },
     "execution_count": 29,
     "metadata": {},
     "output_type": "execute_result"
    }
   ],
   "source": [
    "lst"
   ]
  },
  {
   "cell_type": "code",
   "execution_count": 30,
   "id": "2da6b7d6",
   "metadata": {},
   "outputs": [
    {
     "data": {
      "text/plain": [
       "['Mathematics', 'chemistry', 100, 200, 300, 204, 'Nabbo', ['John', 'Bala']]"
      ]
     },
     "execution_count": 30,
     "metadata": {},
     "output_type": "execute_result"
    }
   ],
   "source": [
    "#Indexing in list\n",
    "lst[:] #retrives all items "
   ]
  },
  {
   "cell_type": "code",
   "execution_count": 31,
   "id": "30b74982",
   "metadata": {},
   "outputs": [
    {
     "data": {
      "text/plain": [
       "['Mathematics']"
      ]
     },
     "execution_count": 31,
     "metadata": {},
     "output_type": "execute_result"
    }
   ],
   "source": [
    "lst[:1] #only retrives 1st item"
   ]
  },
  {
   "cell_type": "code",
   "execution_count": 32,
   "id": "6e830989",
   "metadata": {},
   "outputs": [
    {
     "data": {
      "text/plain": [
       "['chemistry', 100, 200, 300, 204, 'Nabbo', ['John', 'Bala']]"
      ]
     },
     "execution_count": 32,
     "metadata": {},
     "output_type": "execute_result"
    }
   ],
   "source": [
    "lst[1:] #retrives all except 1st item"
   ]
  },
  {
   "cell_type": "code",
   "execution_count": 33,
   "id": "2614f489",
   "metadata": {},
   "outputs": [
    {
     "data": {
      "text/plain": [
       "['chemistry', 100, 200, 300, 204]"
      ]
     },
     "execution_count": 33,
     "metadata": {},
     "output_type": "execute_result"
    }
   ],
   "source": [
    "lst[1:6] #retrives all except the first and last item"
   ]
  },
  {
   "cell_type": "markdown",
   "id": "44785d19",
   "metadata": {},
   "source": [
    "### Insert"
   ]
  },
  {
   "cell_type": "code",
   "execution_count": 36,
   "id": "ec47a42b",
   "metadata": {},
   "outputs": [
    {
     "name": "stdout",
     "output_type": "stream",
     "text": [
      "['Mathematics', 'chemistry', 'amity', 'amity', 100, 200, 300, 204, 'Nabbo', ['John', 'Bala']]\n"
     ]
    }
   ],
   "source": [
    "lst.insert(2, 'amity') #insert item in 2nd position\n",
    "print(lst)"
   ]
  },
  {
   "cell_type": "markdown",
   "id": "2f8a062c",
   "metadata": {},
   "source": [
    "### Extend"
   ]
  },
  {
   "cell_type": "code",
   "execution_count": 37,
   "id": "c611d828",
   "metadata": {},
   "outputs": [],
   "source": [
    "lst = [1,2,3,4,5,6]"
   ]
  },
  {
   "cell_type": "code",
   "execution_count": 38,
   "id": "20d60eca",
   "metadata": {},
   "outputs": [
    {
     "name": "stdout",
     "output_type": "stream",
     "text": [
      "[1, 2, 3, 4, 5, 6, 8, 9]\n"
     ]
    }
   ],
   "source": [
    "lst.extend([8,9]) #doesn't create nested list\n",
    "print(lst)"
   ]
  },
  {
   "cell_type": "markdown",
   "id": "c161a8be",
   "metadata": {},
   "source": [
    "### Various Operations that we can perform in List"
   ]
  },
  {
   "cell_type": "code",
   "execution_count": 39,
   "id": "99adfbfb",
   "metadata": {},
   "outputs": [],
   "source": [
    "lst=[1,2,3,4,5]"
   ]
  },
  {
   "cell_type": "code",
   "execution_count": 40,
   "id": "c3d0a4b3",
   "metadata": {},
   "outputs": [
    {
     "data": {
      "text/plain": [
       "15"
      ]
     },
     "execution_count": 40,
     "metadata": {},
     "output_type": "execute_result"
    }
   ],
   "source": [
    "sum(lst) #adds all the items"
   ]
  },
  {
   "cell_type": "code",
   "execution_count": 41,
   "id": "89fc6b6f",
   "metadata": {},
   "outputs": [
    {
     "data": {
      "text/plain": [
       "[1, 2, 3, 4, 5, 1, 2, 3, 4, 5, 1, 2, 3, 4, 5, 1, 2, 3, 4, 5, 1, 2, 3, 4, 5]"
      ]
     },
     "execution_count": 41,
     "metadata": {},
     "output_type": "execute_result"
    }
   ],
   "source": [
    "lst*5 #repeats 5 times"
   ]
  },
  {
   "cell_type": "markdown",
   "id": "b2273e76",
   "metadata": {},
   "source": [
    "### Pop() Method"
   ]
  },
  {
   "cell_type": "code",
   "execution_count": 42,
   "id": "7b82a9fb",
   "metadata": {},
   "outputs": [
    {
     "data": {
      "text/plain": [
       "5"
      ]
     },
     "execution_count": 42,
     "metadata": {},
     "output_type": "execute_result"
    }
   ],
   "source": [
    "lst.pop() #removes element; default = last item\n"
   ]
  },
  {
   "cell_type": "code",
   "execution_count": 43,
   "id": "27a703e3",
   "metadata": {},
   "outputs": [
    {
     "data": {
      "text/plain": [
       "1"
      ]
     },
     "execution_count": 43,
     "metadata": {},
     "output_type": "execute_result"
    }
   ],
   "source": [
    "lst.pop(0) #removes first item"
   ]
  },
  {
   "cell_type": "code",
   "execution_count": 44,
   "id": "6847153a",
   "metadata": {},
   "outputs": [
    {
     "name": "stdout",
     "output_type": "stream",
     "text": [
      "[2, 3, 4]\n"
     ]
    }
   ],
   "source": [
    "print(lst)"
   ]
  },
  {
   "cell_type": "markdown",
   "id": "4456d5cf",
   "metadata": {},
   "source": [
    "### count():Calculates total occurrence of given element of List"
   ]
  },
  {
   "cell_type": "code",
   "execution_count": 45,
   "id": "41eed0a9",
   "metadata": {},
   "outputs": [
    {
     "data": {
      "text/plain": [
       "2"
      ]
     },
     "execution_count": 45,
     "metadata": {},
     "output_type": "execute_result"
    }
   ],
   "source": [
    "lst=[1,1,2,3,4,5]\n",
    "lst.count(1)      #2 elements are present and value is 1"
   ]
  },
  {
   "cell_type": "code",
   "execution_count": 46,
   "id": "181cc3d4",
   "metadata": {},
   "outputs": [
    {
     "data": {
      "text/plain": [
       "1"
      ]
     },
     "execution_count": 46,
     "metadata": {},
     "output_type": "execute_result"
    }
   ],
   "source": [
    "# index(): Returns the index of first occurrence. Start and End index are not necessary parameters\n",
    "lst.index(1,1,4) "
   ]
  },
  {
   "cell_type": "markdown",
   "id": "bd7803ec",
   "metadata": {},
   "source": [
    "1. The first argument is 1. This is the element you're looking for in the list.\n",
    "2. The second argument is 1. This is the starting index for the search. The search for the element 1 will begin from this index in the list.\n",
    "3. The third argument is 4. This is the ending index for the search. The search for the element 1 will continue until this index in the list."
   ]
  },
  {
   "cell_type": "code",
   "execution_count": 49,
   "id": "b34babea",
   "metadata": {},
   "outputs": [
    {
     "data": {
      "text/plain": [
       "5"
      ]
     },
     "execution_count": 49,
     "metadata": {},
     "output_type": "execute_result"
    }
   ],
   "source": [
    "##Min and Max\n",
    "min(lst)\n",
    "max(lst)"
   ]
  },
  {
   "cell_type": "markdown",
   "id": "3bc1985b",
   "metadata": {},
   "source": [
    "### SETS"
   ]
  },
  {
   "cell_type": "markdown",
   "id": "e9f166c6",
   "metadata": {},
   "source": [
    "A Set is an unordered collection data type that is iterable, mutable, and has no duplicate elements. Python's set class represents the mathematical notion of a set.This is based on a data structure known as a hash table"
   ]
  },
  {
   "cell_type": "code",
   "execution_count": null,
   "id": "32ed87cb",
   "metadata": {},
   "outputs": [],
   "source": []
  }
 ],
 "metadata": {
  "kernelspec": {
   "display_name": "Python 3 (ipykernel)",
   "language": "python",
   "name": "python3"
  },
  "language_info": {
   "codemirror_mode": {
    "name": "ipython",
    "version": 3
   },
   "file_extension": ".py",
   "mimetype": "text/x-python",
   "name": "python",
   "nbconvert_exporter": "python",
   "pygments_lexer": "ipython3",
   "version": "3.11.3"
  }
 },
 "nbformat": 4,
 "nbformat_minor": 5
}
