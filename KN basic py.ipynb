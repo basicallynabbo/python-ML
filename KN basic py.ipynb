{
 "cells": [
  {
   "cell_type": "code",
   "execution_count": 57,
   "id": "04322eae",
   "metadata": {},
   "outputs": [],
   "source": [
    "first_name = 'Nabajit'\n",
    "\n",
    "last_name = 'Borah'"
   ]
  },
  {
   "cell_type": "code",
   "execution_count": 58,
   "id": "79d71a88",
   "metadata": {},
   "outputs": [
    {
     "name": "stdout",
     "output_type": "stream",
     "text": [
      "My name is Nabajit and last name is Borah\n"
     ]
    }
   ],
   "source": [
    "print(\"My name is {} and last name is {}\".format(first_name,last_name))"
   ]
  },
  {
   "cell_type": "markdown",
   "id": "2512d136",
   "metadata": {},
   "source": [
    "Booleans variables are two constant objects: True or False\n",
    "bool()"
   ]
  },
  {
   "cell_type": "code",
   "execution_count": 59,
   "id": "ec4f093d",
   "metadata": {},
   "outputs": [],
   "source": [
    "my_str=\"Nabajit991\""
   ]
  },
  {
   "cell_type": "code",
   "execution_count": 60,
   "id": "ac8dd34f",
   "metadata": {},
   "outputs": [
    {
     "data": {
      "text/plain": [
       "True"
      ]
     },
     "execution_count": 60,
     "metadata": {},
     "output_type": "execute_result"
    }
   ],
   "source": [
    "my_str.isalnum()"
   ]
  },
  {
   "cell_type": "code",
   "execution_count": 61,
   "id": "f3280da9",
   "metadata": {},
   "outputs": [
    {
     "name": "stdout",
     "output_type": "stream",
     "text": [
      "True\n",
      "False\n",
      "False\n",
      "True\n",
      "False\n",
      "False\n",
      "False\n",
      "False\n",
      "False\n"
     ]
    }
   ],
   "source": [
    "print(my_str.isalnum()) #check if all char are numbers\n",
    "print(my_str.isalpha()) #check if all char in the string are alphabetic\n",
    "print(my_str.isdigit()) #test if string contains digits\n",
    "print(my_str.istitle()) #test if string contains title words\n",
    "print(my_str.isupper()) #test if string contains upper case\n",
    "print(my_str.islower()) #test if string contains lower case\n",
    "print(my_str.isspace()) #test if string contains spaces\n",
    "print(my_str.endswith('k')) #test if string endswith a d\n",
    "print(my_str.startswith('K')) #test if string startswith H"
   ]
  },
  {
   "cell_type": "code",
   "execution_count": null,
   "id": "ca03c948",
   "metadata": {},
   "outputs": [],
   "source": [
    "str_example='Hello World'\n",
    "my_str='Nabbo'"
   ]
  },
  {
   "cell_type": "code",
   "execution_count": 63,
   "id": "d71e1c61",
   "metadata": {},
   "outputs": [],
   "source": [
    "my_str.isalpha() or str_example.isnum()"
   ]
  },
  {
   "cell_type": "markdown",
   "id": "8f481bfb",
   "metadata": {},
   "source": [
    "## Lists\n",
    "A list is a data structure in Python that is a mutable, or changeable, ordered sequence of elements. Each element or value that is inside of a list is called an item. Just as strings are defined as characters between quotes, lists are defined by having values between square brackets [ ]"
   ]
  },
  {
   "cell_type": "code",
   "execution_count": 64,
   "id": "3bfc5457",
   "metadata": {},
   "outputs": [
    {
     "data": {
      "text/plain": [
       "list"
      ]
     },
     "execution_count": 64,
     "metadata": {},
     "output_type": "execute_result"
    }
   ],
   "source": [
    "type([]) #to find data type"
   ]
  },
  {
   "cell_type": "code",
   "execution_count": 65,
   "id": "e1e61185",
   "metadata": {},
   "outputs": [],
   "source": [
    "lst=list() #create empty list"
   ]
  },
  {
   "cell_type": "code",
   "execution_count": 66,
   "id": "bb2231c2",
   "metadata": {},
   "outputs": [],
   "source": [
    "lst=['Mathematics', 'chemistry', 100, 200, 300, 204]"
   ]
  },
  {
   "cell_type": "code",
   "execution_count": 67,
   "id": "2a1754f7",
   "metadata": {},
   "outputs": [
    {
     "data": {
      "text/plain": [
       "6"
      ]
     },
     "execution_count": 67,
     "metadata": {},
     "output_type": "execute_result"
    }
   ],
   "source": [
    "len(lst) #finds length of list"
   ]
  },
  {
   "cell_type": "markdown",
   "id": "310cfdf8",
   "metadata": {},
   "source": [
    "### Append\n"
   ]
  },
  {
   "cell_type": "code",
   "execution_count": 68,
   "id": "771754b9",
   "metadata": {},
   "outputs": [],
   "source": [
    "#append is used to add elements in the list\n",
    "lst.append(\"Nabbo\")\n"
   ]
  },
  {
   "cell_type": "code",
   "execution_count": 69,
   "id": "51648d2c",
   "metadata": {},
   "outputs": [],
   "source": [
    "lst.append([\"John\",\"Bala\"]) #nested list"
   ]
  },
  {
   "cell_type": "code",
   "execution_count": 70,
   "id": "e68add43",
   "metadata": {},
   "outputs": [
    {
     "data": {
      "text/plain": [
       "['Mathematics', 'chemistry', 100, 200, 300, 204, 'Nabbo', ['John', 'Bala']]"
      ]
     },
     "execution_count": 70,
     "metadata": {},
     "output_type": "execute_result"
    }
   ],
   "source": [
    "lst"
   ]
  },
  {
   "cell_type": "code",
   "execution_count": 71,
   "id": "2da6b7d6",
   "metadata": {},
   "outputs": [
    {
     "data": {
      "text/plain": [
       "['Mathematics', 'chemistry', 100, 200, 300, 204, 'Nabbo', ['John', 'Bala']]"
      ]
     },
     "execution_count": 71,
     "metadata": {},
     "output_type": "execute_result"
    }
   ],
   "source": [
    "#Indexing in list\n",
    "lst[:] #retrives all items "
   ]
  },
  {
   "cell_type": "code",
   "execution_count": 72,
   "id": "30b74982",
   "metadata": {},
   "outputs": [
    {
     "data": {
      "text/plain": [
       "['Mathematics']"
      ]
     },
     "execution_count": 72,
     "metadata": {},
     "output_type": "execute_result"
    }
   ],
   "source": [
    "lst[:1] #only retrives 1st item"
   ]
  },
  {
   "cell_type": "code",
   "execution_count": 73,
   "id": "6e830989",
   "metadata": {},
   "outputs": [
    {
     "data": {
      "text/plain": [
       "['chemistry', 100, 200, 300, 204, 'Nabbo', ['John', 'Bala']]"
      ]
     },
     "execution_count": 73,
     "metadata": {},
     "output_type": "execute_result"
    }
   ],
   "source": [
    "lst[1:] #retrives all except 1st item"
   ]
  },
  {
   "cell_type": "code",
   "execution_count": 74,
   "id": "2614f489",
   "metadata": {},
   "outputs": [
    {
     "data": {
      "text/plain": [
       "['chemistry', 100, 200, 300, 204]"
      ]
     },
     "execution_count": 74,
     "metadata": {},
     "output_type": "execute_result"
    }
   ],
   "source": [
    "lst[1:6] #retrives all except the first and last item"
   ]
  },
  {
   "cell_type": "code",
   "execution_count": null,
   "id": "12185caa",
   "metadata": {},
   "outputs": [],
   "source": []
  }
 ],
 "metadata": {
  "kernelspec": {
   "display_name": "Python 3 (ipykernel)",
   "language": "python",
   "name": "python3"
  },
  "language_info": {
   "codemirror_mode": {
    "name": "ipython",
    "version": 3
   },
   "file_extension": ".py",
   "mimetype": "text/x-python",
   "name": "python",
   "nbconvert_exporter": "python",
   "pygments_lexer": "ipython3",
   "version": "3.11.0"
  }
 },
 "nbformat": 4,
 "nbformat_minor": 5
}
