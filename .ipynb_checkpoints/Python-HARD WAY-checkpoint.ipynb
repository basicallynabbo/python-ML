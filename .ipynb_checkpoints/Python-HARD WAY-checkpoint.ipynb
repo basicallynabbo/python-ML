{
 "cells": [
  {
   "cell_type": "markdown",
   "id": "0d90fa14",
   "metadata": {},
   "source": [
    "Giving Python: The Hard Way a try"
   ]
  },
  {
   "cell_type": "code",
   "execution_count": 2,
   "id": "d3aebe79",
   "metadata": {},
   "outputs": [
    {
     "name": "stdout",
     "output_type": "stream",
     "text": [
      "Learning python the hard way\n"
     ]
    }
   ],
   "source": [
    "print(\"Learning python the hard way\")"
   ]
  },
  {
   "cell_type": "code",
   "execution_count": 3,
   "id": "737e8eb7",
   "metadata": {},
   "outputs": [
    {
     "name": "stdout",
     "output_type": "stream",
     "text": [
      "Hens 25.5\n",
      "Is is true that 3 + 2 = 5 ?\n"
     ]
    }
   ],
   "source": [
    "print(\"Hens\", 25 + 3 / 6)\n",
    "print(\"Is is true that 3 + 2 = 5 ?\")"
   ]
  },
  {
   "cell_type": "markdown",
   "id": "e0bff246",
   "metadata": {},
   "source": [
    "VARIABLES"
   ]
  },
  {
   "cell_type": "code",
   "execution_count": 4,
   "id": "2ea6bf50",
   "metadata": {},
   "outputs": [
    {
     "name": "stdout",
     "output_type": "stream",
     "text": [
      "There are total 100 in our city.The no. of Space cars are  4.0 and Land cars are  96.0\n"
     ]
    }
   ],
   "source": [
    "cars = 100\n",
    "space_cars = 4.0\n",
    "land_cars = 96.0\n",
    "\n",
    "print(\"There are total\", cars ,\"in our city.The no. of Space cars are \", space_cars ,\"and Land cars are \", land_cars)\n"
   ]
  },
  {
   "cell_type": "code",
   "execution_count": 12,
   "id": "bf5b2309",
   "metadata": {},
   "outputs": [
    {
     "name": "stdout",
     "output_type": "stream",
     "text": [
      "My name is Nabajit Borah.\n",
      "My age is 23 and my goal is Learn Python.\n",
      "If I add my age 23 and my height 168, I get total 191\n"
     ]
    }
   ],
   "source": [
    "my_name = 'Nabajit Borah'\n",
    "my_age = 23\n",
    "my_height = 168 \n",
    "my_goal = 'Learn Python'\n",
    "total = my_age + my_height\n",
    "\n",
    "print(f\"My name is {my_name}.\") #using f to format \n",
    "print(f\"My age is {my_age} and my goal is {my_goal}.\")\n",
    "print(f\"If I add my age {my_age} and my height {my_height}, I get total {total}\")\n"
   ]
  },
  {
   "cell_type": "markdown",
   "id": "b2d965ae",
   "metadata": {},
   "source": [
    "MORE PRINTING"
   ]
  },
  {
   "cell_type": "code",
   "execution_count": 13,
   "id": "3f5450e9",
   "metadata": {},
   "outputs": [
    {
     "name": "stdout",
     "output_type": "stream",
     "text": [
      "Its fleece was white as snow.\n"
     ]
    }
   ],
   "source": [
    "print(\"Its fleece was white as {}.\".format('snow'))\n",
    "#The \"format\" method is used to replace the placeholder '{}' with the string 'snow'."
   ]
  },
  {
   "cell_type": "code",
   "execution_count": 14,
   "id": "e944429d",
   "metadata": {},
   "outputs": [
    {
     "name": "stdout",
     "output_type": "stream",
     "text": [
      "..........\n"
     ]
    }
   ],
   "source": [
    "print(\".\" * 10) #print ... 10x"
   ]
  },
  {
   "cell_type": "code",
   "execution_count": 8,
   "id": "12030c2c",
   "metadata": {},
   "outputs": [
    {
     "name": "stdout",
     "output_type": "stream",
     "text": [
      "1 2 3 4\n",
      "one two three four\n",
      "i hate machine learning\n"
     ]
    }
   ],
   "source": [
    "formatter = \"{} {} {} {}\"\n",
    "print(formatter.format(1, 2, 3, 4))\n",
    "print(formatter.format(\"one\", \"two\", \"three\", \"four\"))\n",
    "print(formatter.format(\"i\", \"hate\", \"machine\", \"learning\"))"
   ]
  },
  {
   "cell_type": "code",
   "execution_count": 9,
   "id": "eb526c62",
   "metadata": {},
   "outputs": [
    {
     "name": "stdout",
     "output_type": "stream",
     "text": [
      "Jan\n",
      "Feb\n",
      "Mar\n",
      "Apr\n",
      "May\n",
      "Jun\n",
      "Jul\n",
      "Aug\n"
     ]
    }
   ],
   "source": [
    "months = \"Jan\\nFeb\\nMar\\nApr\\nMay\\nJun\\nJul\\nAug\"\n",
    "print(months)"
   ]
  },
  {
   "cell_type": "code",
   "execution_count": 10,
   "id": "e9f5e7c1",
   "metadata": {},
   "outputs": [
    {
     "name": "stdout",
     "output_type": "stream",
     "text": [
      "\tI'm tabbed in.\n"
     ]
    }
   ],
   "source": [
    "tabby_cat = \"\\tI'm tabbed in.\"\n",
    "print(tabby_cat)\n"
   ]
  },
  {
   "cell_type": "code",
   "execution_count": 2,
   "id": "4e254a96",
   "metadata": {},
   "outputs": [
    {
     "ename": "NameError",
     "evalue": "name 'tabby_cat' is not defined",
     "output_type": "error",
     "traceback": [
      "\u001b[1;31m---------------------------------------------------------------------------\u001b[0m",
      "\u001b[1;31mNameError\u001b[0m                                 Traceback (most recent call last)",
      "Cell \u001b[1;32mIn[2], line 12\u001b[0m\n\u001b[0;32m      3\u001b[0m backslash_cat \u001b[38;5;241m=\u001b[39m \u001b[38;5;124m\"\u001b[39m\u001b[38;5;124mI\u001b[39m\u001b[38;5;124m'\u001b[39m\u001b[38;5;124mm \u001b[39m\u001b[38;5;130;01m\\\\\u001b[39;00m\u001b[38;5;124m a \u001b[39m\u001b[38;5;130;01m\\\\\u001b[39;00m\u001b[38;5;124m cat.\u001b[39m\u001b[38;5;124m\"\u001b[39m\n\u001b[0;32m      5\u001b[0m fat_cat \u001b[38;5;241m=\u001b[39m \u001b[38;5;124m\"\"\"\u001b[39m\n\u001b[0;32m      6\u001b[0m \u001b[38;5;124mI\u001b[39m\u001b[38;5;124m'\u001b[39m\u001b[38;5;124mll do a list:\u001b[39m\n\u001b[0;32m      7\u001b[0m \u001b[38;5;130;01m\\t\u001b[39;00m\u001b[38;5;124m* Cat food\u001b[39m\n\u001b[0;32m      8\u001b[0m \u001b[38;5;130;01m\\t\u001b[39;00m\u001b[38;5;124m* Fishies\u001b[39m\n\u001b[0;32m      9\u001b[0m \u001b[38;5;130;01m\\t\u001b[39;00m\u001b[38;5;124m* Catnip\u001b[39m\u001b[38;5;130;01m\\n\u001b[39;00m\u001b[38;5;130;01m\\t\u001b[39;00m\u001b[38;5;124m* Grass\u001b[39m\n\u001b[0;32m     10\u001b[0m \u001b[38;5;124m\"\"\"\u001b[39m\n\u001b[1;32m---> 12\u001b[0m \u001b[38;5;28mprint\u001b[39m(tabby_cat)\n\u001b[0;32m     13\u001b[0m \u001b[38;5;28mprint\u001b[39m(persian_cat)\n\u001b[0;32m     14\u001b[0m \u001b[38;5;28mprint\u001b[39m(backslash_cat)\n",
      "\u001b[1;31mNameError\u001b[0m: name 'tabby_cat' is not defined"
     ]
    }
   ],
   "source": [
    "tabby_cat = \"\\tI'm tabbed in.\"\n",
    "backslash_cat = \"I'm \\\\ a \\\\ cat.\"\n",
    "persian_cat = \"I'm split\\non a line.\"\n",
    "backslash_cat = \"I'm \\\\ a \\\\ cat.\"\n",
    "\n",
    "fat_cat = \"\"\"\n",
    "I'll do a list:\n",
    "\\t* Cat food\n",
    "\\t* Fishies\n",
    "\\t* Catnip\\n\\t* Grass\n",
    "\"\"\"\n",
    "\n",
    "print(tabby_cat)\n",
    "print(persian_cat)\n",
    "print(backslash_cat)\n",
    "print(fat_cat)\n",
    "\n",
    "print(backslash_cat)"
   ]
  },
  {
   "cell_type": "code",
   "execution_count": null,
   "id": "e776ce6c",
   "metadata": {},
   "outputs": [],
   "source": []
  }
 ],
 "metadata": {
  "kernelspec": {
   "display_name": "Python 3 (ipykernel)",
   "language": "python",
   "name": "python3"
  },
  "language_info": {
   "codemirror_mode": {
    "name": "ipython",
    "version": 3
   },
   "file_extension": ".py",
   "mimetype": "text/x-python",
   "name": "python",
   "nbconvert_exporter": "python",
   "pygments_lexer": "ipython3",
   "version": "3.11.3"
  }
 },
 "nbformat": 4,
 "nbformat_minor": 5
}
