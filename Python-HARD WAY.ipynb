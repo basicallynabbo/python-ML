{
 "cells": [
  {
   "cell_type": "markdown",
   "id": "0d90fa14",
   "metadata": {},
   "source": [
    "Giving Python: The Hard Way a try"
   ]
  },
  {
   "cell_type": "code",
   "execution_count": 1,
   "id": "d3aebe79",
   "metadata": {},
   "outputs": [
    {
     "name": "stdout",
     "output_type": "stream",
     "text": [
      "Learning python the hard way\n"
     ]
    }
   ],
   "source": [
    "print(\"Learning python the hard way\")"
   ]
  },
  {
   "cell_type": "code",
   "execution_count": 3,
   "id": "737e8eb7",
   "metadata": {},
   "outputs": [
    {
     "name": "stdout",
     "output_type": "stream",
     "text": [
      "Hens 25.5\n",
      "Is is true that 3 + 2 = 5 ?\n"
     ]
    }
   ],
   "source": [
    "print(\"Hens\", 25 + 3 / 6)\n",
    "print(\"Is is true that 3 + 2 = 5 ?\")"
   ]
  },
  {
   "cell_type": "markdown",
   "id": "e0bff246",
   "metadata": {},
   "source": [
    "VARIABLES"
   ]
  },
  {
   "cell_type": "code",
   "execution_count": 5,
   "id": "2ea6bf50",
   "metadata": {},
   "outputs": [
    {
     "name": "stdout",
     "output_type": "stream",
     "text": [
      "There are total 100 in our city.The no. of Space cars are  4.0 and Land cars are  96.0\n"
     ]
    }
   ],
   "source": [
    "cars = 100\n",
    "space_cars = 4.0\n",
    "land_cars = 96.0\n",
    "\n",
    "print(\"There are total\", cars ,\"in our city.The no. of Space cars are \", space_cars ,\"and Land cars are \", land_cars)\n"
   ]
  },
  {
   "cell_type": "code",
   "execution_count": 16,
   "id": "bf5b2309",
   "metadata": {},
   "outputs": [
    {
     "name": "stdout",
     "output_type": "stream",
     "text": [
      "My name is Nabajit Borah.\n",
      "My age is 23 and my goal is Learn Python.\n",
      "If I add my age 23 and my height 168, I get total 191\n"
     ]
    }
   ],
   "source": [
    "my_name = 'Nabajit Borah'\n",
    "my_age = 23\n",
    "my_height = 168 \n",
    "my_goal = 'Learn Python'\n",
    "total = my_age + my_height\n",
    "\n",
    "print(f\"My name is {my_name}.\") #using f to format \n",
    "print(f\"My age is {my_age} and my goal is {my_goal}.\")\n",
    "print(f\"If I add my age {my_age} and my height {my_height}, I get total {total}\")\n"
   ]
  },
  {
   "cell_type": "code",
   "execution_count": null,
   "id": "3d365517",
   "metadata": {},
   "outputs": [],
   "source": []
  }
 ],
 "metadata": {
  "kernelspec": {
   "display_name": "Python 3 (ipykernel)",
   "language": "python",
   "name": "python3"
  },
  "language_info": {
   "codemirror_mode": {
    "name": "ipython",
    "version": 3
   },
   "file_extension": ".py",
   "mimetype": "text/x-python",
   "name": "python",
   "nbconvert_exporter": "python",
   "pygments_lexer": "ipython3",
   "version": "3.11.3"
  }
 },
 "nbformat": 4,
 "nbformat_minor": 5
}
